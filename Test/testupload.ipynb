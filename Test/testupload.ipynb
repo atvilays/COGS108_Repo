{
  "cells": [
    {
      "cell_type": "markdown",
      "metadata": {
        "id": "view-in-github",
        "colab_type": "text"
      },
      "source": [
        "<a href=\"https://colab.research.google.com/github/atvilays/COGS108_Repo/blob/main/Test/testupload.ipynb\" target=\"_parent\"><img src=\"https://colab.research.google.com/assets/colab-badge.svg\" alt=\"Open In Colab\"/></a>"
      ]
    },
    {
      "cell_type": "code",
      "execution_count": null,
      "id": "89df7ad3",
      "metadata": {
        "id": "89df7ad3",
        "outputId": "8b242641-3f92-4b3b-d4d5-84fdab59cdcb"
      },
      "outputs": [
        {
          "ename": "SyntaxError",
          "evalue": "invalid syntax (3942870138.py, line 1)",
          "output_type": "error",
          "traceback": [
            "\u001b[0;36m  File \u001b[0;32m\"/tmp/ipykernel_185/3942870138.py\"\u001b[0;36m, line \u001b[0;32m1\u001b[0m\n\u001b[0;31m    heheheh hello test!\u001b[0m\n\u001b[0m            ^\u001b[0m\n\u001b[0;31mSyntaxError\u001b[0m\u001b[0;31m:\u001b[0m invalid syntax\n"
          ]
        }
      ],
      "source": []
    },
    {
      "cell_type": "markdown",
      "source": [
        "testing here here here ye"
      ],
      "metadata": {
        "id": "vlKcYmBY_CrD"
      },
      "id": "vlKcYmBY_CrD"
    },
    {
      "cell_type": "markdown",
      "source": [],
      "metadata": {
        "id": "8vK0glhz_CH3"
      },
      "id": "8vK0glhz_CH3"
    },
    {
      "cell_type": "code",
      "execution_count": null,
      "id": "030c7e5c",
      "metadata": {
        "id": "030c7e5c"
      },
      "outputs": [],
      "source": []
    }
  ],
  "metadata": {
    "kernelspec": {
      "display_name": "Python 3 (ipykernel)",
      "language": "python",
      "name": "python3"
    },
    "language_info": {
      "codemirror_mode": {
        "name": "ipython",
        "version": 3
      },
      "file_extension": ".py",
      "mimetype": "text/x-python",
      "name": "python",
      "nbconvert_exporter": "python",
      "pygments_lexer": "ipython3",
      "version": "3.9.5"
    },
    "colab": {
      "provenance": [],
      "include_colab_link": true
    }
  },
  "nbformat": 4,
  "nbformat_minor": 5
}